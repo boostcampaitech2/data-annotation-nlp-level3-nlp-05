{
 "cells": [
  {
   "cell_type": "code",
   "execution_count": 7,
   "metadata": {},
   "outputs": [],
   "source": [
    "# !pip install seaborn\n",
    "# !pip install openpyxl"
   ]
  },
  {
   "cell_type": "code",
   "execution_count": 2,
   "metadata": {},
   "outputs": [],
   "source": [
    "import pandas as pd\n",
    "from utils import get_tagtog_df\n",
    "from make_data import get_labels\n",
    "import seaborn as sns\n",
    "import matplotlib.pyplot as plt"
   ]
  },
  {
   "cell_type": "code",
   "execution_count": 3,
   "metadata": {},
   "outputs": [],
   "source": [
    "# make_data.py의 make_train_data() 긁어옴; split 전까지\n",
    "\n",
    "tagtog_df = get_tagtog_df()\n",
    "relation_df = pd.read_excel('./file/relation_for_train_raw.xlsx', engine='openpyxl')\n",
    "\n",
    "merge_df = pd.merge(tagtog_df, relation_df, on=['id'])\n",
    "merge_df['exclude'] = merge_df['exclude'].fillna('유지')\n",
    "\n",
    "df = merge_df.copy() # 1683\n",
    "df['label'] = get_labels(df)\n",
    "df = df.loc[df['exclude'] == '유지', :] # 1600\n",
    "df = df.loc[df['label'] != 'none', :] # 1594\n",
    "df['source'] = ['wikipedia' for _ in range(len(df))]\n",
    "df = df.drop(\n",
    "    columns=[\n",
    "        'title', 'sentence_with_entity',\n",
    "        'subject_entity_word', 'subject_entity_start_idx', 'subject_entity_end_idx', 'subject_entity_type',\n",
    "        'object_entity_word', 'object_entity_start_idx', 'object_entity_end_idx', 'object_entity_type',\n",
    "        'id', 'relation_1', 'relation_2', 'relation_3', 'correct', 'exclude'\n",
    "    ]\n",
    ")"
   ]
  },
  {
   "cell_type": "code",
   "execution_count": 4,
   "metadata": {},
   "outputs": [
    {
     "data": {
      "text/plain": [
       "1594"
      ]
     },
     "execution_count": 4,
     "metadata": {},
     "output_type": "execute_result"
    }
   ],
   "source": [
    "len(df)  # 1594"
   ]
  },
  {
   "cell_type": "code",
   "execution_count": 5,
   "metadata": {},
   "outputs": [
    {
     "data": {
      "text/html": [
       "<div>\n",
       "<style scoped>\n",
       "    .dataframe tbody tr th:only-of-type {\n",
       "        vertical-align: middle;\n",
       "    }\n",
       "\n",
       "    .dataframe tbody tr th {\n",
       "        vertical-align: top;\n",
       "    }\n",
       "\n",
       "    .dataframe thead th {\n",
       "        text-align: right;\n",
       "    }\n",
       "</style>\n",
       "<table border=\"1\" class=\"dataframe\">\n",
       "  <thead>\n",
       "    <tr style=\"text-align: right;\">\n",
       "      <th></th>\n",
       "      <th>sentence</th>\n",
       "      <th>subject_entity</th>\n",
       "      <th>object_entity</th>\n",
       "      <th>label</th>\n",
       "      <th>source</th>\n",
       "    </tr>\n",
       "  </thead>\n",
       "  <tbody>\n",
       "    <tr>\n",
       "      <th>1</th>\n",
       "      <td>63빌딩은 2007년 - 63빌딩이 테러 당했다는 이미지가 올라왔는데 알고보니 낚시...</td>\n",
       "      <td>{'word': '63빌딩', 'start_idx': 0, 'end_idx': 3,...</td>\n",
       "      <td>{'word': '2007년', 'start_idx': 6, 'end_idx': 1...</td>\n",
       "      <td>no_relation</td>\n",
       "      <td>wikipedia</td>\n",
       "    </tr>\n",
       "    <tr>\n",
       "      <th>2</th>\n",
       "      <td>63빌딩 계단 오르기 대회는 1995년 개관 10주년을 맞이하여 대회가 열렸다.</td>\n",
       "      <td>{'word': '63빌딩', 'start_idx': 0, 'end_idx': 3,...</td>\n",
       "      <td>{'word': '1995년', 'start_idx': 16, 'end_idx': ...</td>\n",
       "      <td>loc:sites_contained</td>\n",
       "      <td>wikipedia</td>\n",
       "    </tr>\n",
       "    <tr>\n",
       "      <th>3</th>\n",
       "      <td>63빌딩의 63스카이아트(영어: 63 Sky Art)는 지상 60층에 위치하고 있다.</td>\n",
       "      <td>{'word': '63빌딩', 'start_idx': 0, 'end_idx': 3,...</td>\n",
       "      <td>{'word': '63스카이아트(영어: 63 Sky Art)', 'start_idx...</td>\n",
       "      <td>no_relation</td>\n",
       "      <td>wikipedia</td>\n",
       "    </tr>\n",
       "    <tr>\n",
       "      <th>4</th>\n",
       "      <td>63빌딩의 워킹 온 더 클라우드(영어: Walking On The Cloud)는 지...</td>\n",
       "      <td>{'word': '63빌딩', 'start_idx': 0, 'end_idx': 3,...</td>\n",
       "      <td>{'word': '워킹 온 더 클라우드(영어: Walking On The Cloud...</td>\n",
       "      <td>loc:founded</td>\n",
       "      <td>wikipedia</td>\n",
       "    </tr>\n",
       "    <tr>\n",
       "      <th>5</th>\n",
       "      <td>63빌딩의 2층 ~ 20층에는 저층부 사무실, 20층 ~ 36층에는 중층부 사무실,...</td>\n",
       "      <td>{'word': '63빌딩', 'start_idx': 0, 'end_idx': 3,...</td>\n",
       "      <td>{'word': '저층부 사무실', 'start_idx': 17, 'end_idx'...</td>\n",
       "      <td>loc:sites_contained</td>\n",
       "      <td>wikipedia</td>\n",
       "    </tr>\n",
       "  </tbody>\n",
       "</table>\n",
       "</div>"
      ],
      "text/plain": [
       "                                            sentence  \\\n",
       "1  63빌딩은 2007년 - 63빌딩이 테러 당했다는 이미지가 올라왔는데 알고보니 낚시...   \n",
       "2       63빌딩 계단 오르기 대회는 1995년 개관 10주년을 맞이하여 대회가 열렸다.   \n",
       "3    63빌딩의 63스카이아트(영어: 63 Sky Art)는 지상 60층에 위치하고 있다.   \n",
       "4  63빌딩의 워킹 온 더 클라우드(영어: Walking On The Cloud)는 지...   \n",
       "5  63빌딩의 2층 ~ 20층에는 저층부 사무실, 20층 ~ 36층에는 중층부 사무실,...   \n",
       "\n",
       "                                      subject_entity  \\\n",
       "1  {'word': '63빌딩', 'start_idx': 0, 'end_idx': 3,...   \n",
       "2  {'word': '63빌딩', 'start_idx': 0, 'end_idx': 3,...   \n",
       "3  {'word': '63빌딩', 'start_idx': 0, 'end_idx': 3,...   \n",
       "4  {'word': '63빌딩', 'start_idx': 0, 'end_idx': 3,...   \n",
       "5  {'word': '63빌딩', 'start_idx': 0, 'end_idx': 3,...   \n",
       "\n",
       "                                       object_entity                label  \\\n",
       "1  {'word': '2007년', 'start_idx': 6, 'end_idx': 1...          no_relation   \n",
       "2  {'word': '1995년', 'start_idx': 16, 'end_idx': ...  loc:sites_contained   \n",
       "3  {'word': '63스카이아트(영어: 63 Sky Art)', 'start_idx...          no_relation   \n",
       "4  {'word': '워킹 온 더 클라우드(영어: Walking On The Cloud...          loc:founded   \n",
       "5  {'word': '저층부 사무실', 'start_idx': 17, 'end_idx'...  loc:sites_contained   \n",
       "\n",
       "      source  \n",
       "1  wikipedia  \n",
       "2  wikipedia  \n",
       "3  wikipedia  \n",
       "4  wikipedia  \n",
       "5  wikipedia  "
      ]
     },
     "execution_count": 5,
     "metadata": {},
     "output_type": "execute_result"
    }
   ],
   "source": [
    "df.head()  # columns: sentence, subject_entity, object_entity, label, source"
   ]
  },
  {
   "cell_type": "code",
   "execution_count": 8,
   "metadata": {},
   "outputs": [
    {
     "data": {
      "image/png": "[encoded data removed]",
      "text/plain": [
       "<Figure size 864x504 with 1 Axes>"
      ]
     },
     "metadata": {
      "needs_background": "light"
     },
     "output_type": "display_data"
    }
   ],
   "source": [
    "fig, ax = plt.subplots(figsize=(12, 7))\n",
    "\n",
    "ax = sns.countplot(y=df[\"label\"], palette='Set2', order = df[\"label\"].value_counts().index)\n",
    "\n",
    "for p in ax.patches:\n",
    "    ax.annotate(p.get_width(),\n",
    "        (p.get_width(), p.get_y()+0.5), \n",
    "        ha=\"left\", va='bottom',\n",
    "        fontsize=12\n",
    "    )\n",
    "    ax.annotate(f'({100*p.get_width()/len(df):.2f}%)',\n",
    "        (p.get_width(), p.get_y()+0.5), \n",
    "        ha=\"left\", va='top',\n",
    "        fontsize=10\n",
    "    )"
   ]
  }
 ],
 "metadata": {
  "interpreter": {
   "hash": "d4d1e4263499bec80672ea0156c357c1ee493ec2b1c70f0acce89fc37c4a6abe"
  },
  "kernelspec": {
   "display_name": "Python 3.8.5 64-bit ('base': conda)",
   "language": "python",
   "name": "python3"
  },
  "language_info": {
   "codemirror_mode": {
    "name": "ipython",
    "version": 3
   },
   "file_extension": ".py",
   "mimetype": "text/x-python",
   "name": "python",
   "nbconvert_exporter": "python",
   "pygments_lexer": "ipython3",
   "version": "3.8.5"
  },
  "orig_nbformat": 4
 },
 "nbformat": 4,
 "nbformat_minor": 2
}
