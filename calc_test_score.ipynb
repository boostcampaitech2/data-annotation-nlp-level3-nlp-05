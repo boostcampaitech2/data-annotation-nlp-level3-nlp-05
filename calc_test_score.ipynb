{
 "cells": [
  {
   "cell_type": "code",
   "execution_count": 27,
   "metadata": {},
   "outputs": [
    {
     "name": "stdout",
     "output_type": "stream",
     "text": [
      "f1: 74.468085, auprc: 63.107407\n"
     ]
    }
   ],
   "source": [
    "import pandas as pd\n",
    "import numpy as np\n",
    "from train import klue_re_micro_f1, klue_re_auprc\n",
    "from utils import label_to_num\n",
    "\n",
    "submission = pd.read_csv('./prediction/submission.csv')\n",
    "ground_truth = pd.read_csv('/opt/ml/data/dataset/test/test_data_ground_truth.csv')\n",
    "\n",
    "probs = []\n",
    "for i, row in submission.iterrows():\n",
    "    probs.append(eval(row['probs']))\n",
    "\n",
    "probs = np.array(probs)\n",
    "preds = probs.argmax(-1)\n",
    "labels = ground_truth['label'].tolist()\n",
    "labels = label_to_num(labels)\n",
    "\n",
    "f1 = klue_re_micro_f1(preds, labels)\n",
    "auprc = klue_re_auprc(probs, labels)\n",
    "\n",
    "print(f\"f1: {f1:.6f}, auprc: {auprc:.6f}\")"
   ]
  },
  {
   "cell_type": "code",
   "execution_count": null,
   "metadata": {},
   "outputs": [],
   "source": []
  }
 ],
 "metadata": {
  "interpreter": {
   "hash": "d4d1e4263499bec80672ea0156c357c1ee493ec2b1c70f0acce89fc37c4a6abe"
  },
  "kernelspec": {
   "display_name": "Python 3.8.5 64-bit ('base': conda)",
   "language": "python",
   "name": "python3"
  },
  "language_info": {
   "codemirror_mode": {
    "name": "ipython",
    "version": 3
   },
   "file_extension": ".py",
   "mimetype": "text/x-python",
   "name": "python",
   "nbconvert_exporter": "python",
   "pygments_lexer": "ipython3",
   "version": "3.8.5"
  },
  "orig_nbformat": 4
 },
 "nbformat": 4,
 "nbformat_minor": 2
}
